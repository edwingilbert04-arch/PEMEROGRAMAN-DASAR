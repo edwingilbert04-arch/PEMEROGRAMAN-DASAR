{
  "nbformat": 4,
  "nbformat_minor": 0,
  "metadata": {
    "colab": {
      "provenance": [],
      "authorship_tag": "ABX9TyMZc/f9ejXbRGoK17BneJxa",
      "include_colab_link": true
    },
    "kernelspec": {
      "name": "python3",
      "display_name": "Python 3"
    },
    "language_info": {
      "name": "python"
    }
  },
  "cells": [
    {
      "cell_type": "markdown",
      "metadata": {
        "id": "view-in-github",
        "colab_type": "text"
      },
      "source": [
        "<a href=\"https://colab.research.google.com/github/edwingilbert04-arch/PEMEROGRAMAN-DASAR/blob/main/tugas%20pertemuan%202.ipynb\" target=\"_parent\"><img src=\"https://colab.research.google.com/assets/colab-badge.svg\" alt=\"Open In Colab\"/></a>"
      ]
    },
    {
      "cell_type": "code",
      "source": [
        "# IDENTITAS DIRI DATA STRING\n",
        "first_name = \"EDWIN\"\n",
        "last_name = \"GILBERT TAMBUN\"\n",
        "age = 20\n",
        "is_married = False\n",
        "\n",
        "\n",
        "print (first_name)\n",
        "print (last_name)\n",
        "print (age)\n",
        "print (is_married)"
      ],
      "metadata": {
        "colab": {
          "base_uri": "https://localhost:8080/"
        },
        "id": "wITfbHK6fXKl",
        "outputId": "83b7c990-f43d-4ff6-8049-6f366da23d5c"
      },
      "execution_count": 2,
      "outputs": [
        {
          "output_type": "stream",
          "name": "stdout",
          "text": [
            "EDWIN\n",
            "GILBERT TAMBUN\n",
            "20\n",
            "False\n"
          ]
        }
      ]
    },
    {
      "cell_type": "code",
      "source": [
        "# DATA DIRI TIPE DICTIONARY\n",
        "data_diri = {\"first_name\" : 'EDWIN', \"last_name\" : \"GILBERT TAMBUN\", \"age\" : 20 , \"ismarried\" : False }\n",
        "\n",
        "print (data_diri[\"first_name\"])\n",
        "print (data_diri[\"last_name\"])\n",
        "print (data_diri[\"age\"])\n",
        "print (data_diri[\"ismarried\"])"
      ],
      "metadata": {
        "colab": {
          "base_uri": "https://localhost:8080/"
        },
        "id": "RbWkimjngapr",
        "outputId": "54a8700c-c0c0-4284-a5ba-29c9bbcf4fbc"
      },
      "execution_count": 4,
      "outputs": [
        {
          "output_type": "stream",
          "name": "stdout",
          "text": [
            "EDWIN\n",
            "GILBERT TAMBUN\n",
            "20\n",
            "False\n"
          ]
        }
      ]
    },
    {
      "cell_type": "code",
      "source": [
        "# VAEIABEL INSPEKSI TIPE DATA LIST\n",
        "daftar_inspeksi = [\"Pemahaman terhadap rencana dan desain\", \"Ketersediaan bahan dan peralatan\", \"Pengawasan pekerjaan\", \"Kualitas kontruksi\", \"Keselamatan kerja\", \"Koordinasi dengan pemilik proyek\"]\n",
        "\n",
        "print (daftar_inspeksi[0])\n",
        "print (daftar_inspeksi[1])\n",
        "print (daftar_inspeksi[2])\n",
        "print (daftar_inspeksi[3])\n",
        "print (daftar_inspeksi[4])\n",
        "print (daftar_inspeksi[5])"
      ],
      "metadata": {
        "colab": {
          "base_uri": "https://localhost:8080/"
        },
        "id": "H9iwnDHehdHx",
        "outputId": "47aa7677-30dc-4563-8d96-00453713ed45"
      },
      "execution_count": 5,
      "outputs": [
        {
          "output_type": "stream",
          "name": "stdout",
          "text": [
            "Pemahaman terhadap rencana dan desain\n",
            "Ketersediaan bahan dan peralatan\n",
            "Pengawasan pekerjaan\n",
            "Kualitas kontruksi\n",
            "Keselamatan kerja\n",
            "Koordinasi dengan pemilik proyek\n"
          ]
        }
      ]
    },
    {
      "cell_type": "code",
      "source": [
        "# VARIABEL STARTTIME DAN ENDTIME TIPE DATA DICTIONARY\n",
        "startTime = { \"HH\" : 9, \"mm\" : 23,  \"ss\" : 57 }\n",
        "endTime = { \"HH\" : 15, \"mm\" : 25, \"ss\" : 43}\n",
        "\n",
        "print (startTime[\"HH\"])\n",
        "print (startTime[\"mm\"])\n",
        "print (startTime[\"ss\"])\n",
        "\n",
        "print (endTime[\"HH\"])\n",
        "print (endTime[\"mm\"])\n",
        "print (endTime[\"ss\"])"
      ],
      "metadata": {
        "colab": {
          "base_uri": "https://localhost:8080/"
        },
        "id": "yT8FZEqxhLDc",
        "outputId": "ac0d1364-3656-47ba-99d1-7f0c5b03d6bf"
      },
      "execution_count": 6,
      "outputs": [
        {
          "output_type": "stream",
          "name": "stdout",
          "text": [
            "9\n",
            "23\n",
            "57\n",
            "15\n",
            "25\n",
            "43\n"
          ]
        }
      ]
    },
    {
      "cell_type": "code",
      "source": [
        "# STUDI KASUS PENGGABUNGAN DAN ANALISI PRODUK\n",
        "katalog_ikea = { \"meja\", \"piring\" , 'kursi' , 'gelas' , 'sendok' }\n",
        "katalog_DIY = { \"baju\" , \"celana\" , \"rok\" , \"gaun\" }\n",
        "\n",
        "# Katalog Lengkap\n",
        "union = katalog_ikea.union(katalog_DIY)\n",
        "\n",
        "intersection = katalog_ikea.intersection(katalog_DIY)\n",
        "\n",
        "print (\"union:\", union)\n",
        "print (\"ntersection:\", intersection )"
      ],
      "metadata": {
        "colab": {
          "base_uri": "https://localhost:8080/"
        },
        "id": "cEObDXgkiYCy",
        "outputId": "015cd2f2-3f40-46d6-8eca-8ff0cb062ba9"
      },
      "execution_count": 9,
      "outputs": [
        {
          "output_type": "stream",
          "name": "stdout",
          "text": [
            "union: {'celana', 'gaun', 'gelas', 'piring', 'meja', 'sendok', 'kursi', 'rok', 'baju'}\n",
            "ntersection: set()\n"
          ]
        }
      ]
    },
    {
      "cell_type": "code",
      "source": [],
      "metadata": {
        "id": "uxPy2ew1l41U"
      },
      "execution_count": null,
      "outputs": []
    }
  ]
}