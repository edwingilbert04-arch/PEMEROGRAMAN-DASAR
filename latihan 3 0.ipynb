{
  "nbformat": 4,
  "nbformat_minor": 0,
  "metadata": {
    "colab": {
      "provenance": [],
      "authorship_tag": "ABX9TyNmmlAVu3wNOIM2YRda5/lD",
      "include_colab_link": true
    },
    "kernelspec": {
      "name": "python3",
      "display_name": "Python 3"
    },
    "language_info": {
      "name": "python"
    }
  },
  "cells": [
    {
      "cell_type": "markdown",
      "metadata": {
        "id": "view-in-github",
        "colab_type": "text"
      },
      "source": [
        "<a href=\"https://colab.research.google.com/github/edwingilbert04-arch/PEMEROGRAMAN-DASAR/blob/main/latihan%203%200.ipynb\" target=\"_parent\"><img src=\"https://colab.research.google.com/assets/colab-badge.svg\" alt=\"Open In Colab\"/></a>"
      ]
    },
    {
      "cell_type": "code",
      "source": [
        "def cek_tahun_kabisat(tahun):\n",
        "    if (tahun % 4 == 0 and tahun % 100 != 0) or (tahun % 400 == 0):\n",
        "        return f\"{tahun} adalah tahun kabisat\"\n",
        "    else:\n",
        "        return f\"{tahun} bukan tahun kabisat\"\n",
        "\n",
        "# Input\n",
        "tahun = int(input(\"Masukkan tahun: \"))\n",
        "print(cek_tahun_kabisat(tahun))\n"
      ],
      "metadata": {
        "colab": {
          "base_uri": "https://localhost:8080/"
        },
        "id": "55ZcsZfHCK_X",
        "outputId": "bf7cecf7-0a55-48ce-d803-cbbb569ed926"
      },
      "execution_count": 29,
      "outputs": [
        {
          "output_type": "stream",
          "name": "stdout",
          "text": [
            "Masukkan tahun: 2025\n",
            "2025 bukan tahun kabisat\n"
          ]
        }
      ]
    },
    {
      "cell_type": "code",
      "source": [
        "def operasi_aritmatika(a, b):\n",
        "    print(\"Penjumlahan:\", a + b)\n",
        "    print(\"Pengurangan:\", a - b)\n",
        "    print(\"Perkalian:\", a * b)\n",
        "    print(\"Pembagian:\", a / b)\n",
        "\n",
        "# Input\n",
        "a = int(input(\"Masukkan angka pertama: \"))\n",
        "b = int(input(\"Masukkan angka kedua: \"))\n",
        "\n",
        "operasi_aritmatika(a, b)\n"
      ],
      "metadata": {
        "colab": {
          "base_uri": "https://localhost:8080/"
        },
        "id": "-4-ZLAHECbVn",
        "outputId": "76c2d31b-b9dd-49a5-ecf1-c09da90fe752"
      },
      "execution_count": 30,
      "outputs": [
        {
          "output_type": "stream",
          "name": "stdout",
          "text": [
            "Masukkan angka pertama: 1\n",
            "Masukkan angka kedua: 2\n",
            "Penjumlahan: 3\n",
            "Pengurangan: -1\n",
            "Perkalian: 2\n",
            "Pembagian: 0.5\n"
          ]
        }
      ]
    },
    {
      "cell_type": "code",
      "source": [],
      "metadata": {
        "id": "3sxyZcLDCmh_"
      },
      "execution_count": null,
      "outputs": []
    }
  ]
}