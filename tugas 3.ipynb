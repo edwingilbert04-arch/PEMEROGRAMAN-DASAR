{
  "nbformat": 4,
  "nbformat_minor": 0,
  "metadata": {
    "colab": {
      "provenance": [],
      "authorship_tag": "ABX9TyMYrbQ/j3kY5RiFaj7R0Kk+",
      "include_colab_link": true
    },
    "kernelspec": {
      "name": "python3",
      "display_name": "Python 3"
    },
    "language_info": {
      "name": "python"
    }
  },
  "cells": [
    {
      "cell_type": "markdown",
      "metadata": {
        "id": "view-in-github",
        "colab_type": "text"
      },
      "source": [
        "<a href=\"https://colab.research.google.com/github/edwingilbert04-arch/PEMEROGRAMAN-DASAR/blob/main/tugas%203.ipynb\" target=\"_parent\"><img src=\"https://colab.research.google.com/assets/colab-badge.svg\" alt=\"Open In Colab\"/></a>"
      ]
    },
    {
      "cell_type": "code",
      "source": [
        "def program_kasir():\n",
        "    # Input jumlah item\n",
        "    n = int(input(\"Masukkan jumlah item yang dibeli: \"))\n",
        "    subtotal = 0\n",
        "\n",
        "    # Input harga tiap item\n",
        "    for i in range(n):\n",
        "        harga = int(input(f\"Masukkan harga item ke-{i+1}: Rp\"))\n",
        "        subtotal += harga\n",
        "\n",
        "    # Input status member\n",
        "    member = input(\"Apakah Anda member? (ya/tidak): \").lower()\n",
        "\n",
        "    # Evaluasi diskon\n",
        "    if member == \"ya\" and subtotal > 100000:\n",
        "        diskon = 0.15 * subtotal\n",
        "    else:\n",
        "        diskon = 0\n",
        "\n",
        "    # Hitung harga setelah diskon\n",
        "    harga_setelah_diskon = subtotal - diskon\n",
        "\n",
        "    # Hitung PPN 11%\n",
        "    ppn = 0.11 * harga_setelah_diskon\n",
        "\n",
        "    # Hitung total akhir\n",
        "    total_akhir = harga_setelah_diskon + ppn\n",
        "\n",
        "    # Output\n",
        "    print(\"\\n--- Rincian Belanja ---\")\n",
        "    print(f\"Subtotal              : Rp{subtotal}\")\n",
        "    print(f\"Diskon                : Rp{diskon}\")\n",
        "    print(f\"Harga Setelah Diskon  : Rp{harga_setelah_diskon}\")\n",
        "    print(f\"PPN (11%)             : Rp{ppn}\")\n",
        "    print(f\"Total Akhir           : Rp{total_akhir}\")\n",
        "\n",
        "program_kasir()\n"
      ],
      "metadata": {
        "colab": {
          "base_uri": "https://localhost:8080/"
        },
        "id": "3sxyZcLDCmh_",
        "outputId": "90fbe406-9e3a-43f4-b586-b1f2bae04cfa"
      },
      "execution_count": 31,
      "outputs": [
        {
          "output_type": "stream",
          "name": "stdout",
          "text": [
            "Masukkan jumlah item yang dibeli: 5\n",
            "Masukkan harga item ke-1: Rp10000\n",
            "Masukkan harga item ke-2: Rp25000\n",
            "Masukkan harga item ke-3: Rp15000\n",
            "Masukkan harga item ke-4: Rp20000\n",
            "Masukkan harga item ke-5: Rp80000\n",
            "Apakah Anda member? (ya/tidak): ya\n",
            "\n",
            "--- Rincian Belanja ---\n",
            "Subtotal              : Rp150000\n",
            "Diskon                : Rp22500.0\n",
            "Harga Setelah Diskon  : Rp127500.0\n",
            "PPN (11%)             : Rp14025.0\n",
            "Total Akhir           : Rp141525.0\n"
          ]
        }
      ]
    }
  ]
}