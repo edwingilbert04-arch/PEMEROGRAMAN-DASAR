{
  "nbformat": 4,
  "nbformat_minor": 0,
  "metadata": {
    "colab": {
      "provenance": [],
      "authorship_tag": "ABX9TyNhxxinN8Z99OCeHE6MDljN",
      "include_colab_link": true
    },
    "kernelspec": {
      "name": "python3",
      "display_name": "Python 3"
    },
    "language_info": {
      "name": "python"
    }
  },
  "cells": [
    {
      "cell_type": "markdown",
      "metadata": {
        "id": "view-in-github",
        "colab_type": "text"
      },
      "source": [
        "<a href=\"https://colab.research.google.com/github/edwingilbert04-arch/PEMEROGRAMAN-DASAR/blob/main/PRAKTIKUM%206.ipynb\" target=\"_parent\"><img src=\"https://colab.research.google.com/assets/colab-badge.svg\" alt=\"Open In Colab\"/></a>"
      ]
    },
    {
      "cell_type": "code",
      "source": [
        "# SOAL 1: Fungsi Inisialisasi Sederhana\n",
        "def sapa_praktikan():\n",
        "    \"\"\"Mencetak pesan sambutan dasar.\"\"\"\n",
        "    print(\"Sistem siap. Selamat datang kembali di sesi praktikum.\")\n",
        "\n",
        "sapa_praktikan()\n",
        "\n",
        "def Biodata():\n",
        "    \"\"\"Menampilkan biodata lengkap pengguna.\"\"\"\n",
        "    print(\"===== BIODATA PRAKTIKAN =====\")\n",
        "    print(\"Nama        : Edwin Gilbert Tambun\")\n",
        "    print(\"NIM         : 4232411050\")\n",
        "    print(\"Prodi       : Teknologi Rekayasa Pembangkit Energi\")\n",
        "    print(\"Universitas : Politeknik Negeri Batam\")\n",
        "    print(\"Semester    : 3\")\n",
        "    print(\"Kelas       : RPE 3B MALAM\")\n",
        "\n",
        "\n",
        "Biodata()\n"
      ],
      "metadata": {
        "colab": {
          "base_uri": "https://localhost:8080/"
        },
        "id": "PTUwHg3Qu_nG",
        "outputId": "c7fe862e-ff11-46ae-e09b-5a2841d88891"
      },
      "execution_count": null,
      "outputs": [
        {
          "output_type": "stream",
          "name": "stdout",
          "text": [
            "Sistem siap. Selamat datang kembali di sesi praktikum.\n",
            "===== BIODATA PRAKTIKAN =====\n",
            "Nama        : Edwin Gilbert Tambun\n",
            "NIM         : 4232411050\n",
            "Prodi       : Teknologi Rekayasa Pembangkit Energi\n",
            "Universitas : Politeknik Negeri Batam\n",
            "Semester    : 3\n",
            "Kelas       : RPE 3B MALAM\n"
          ]
        }
      ]
    },
    {
      "cell_type": "code",
      "source": [
        "# SOAL 2: Menghitung Volume Kubus\n",
        "def hitung_volume_kubus(sisi):\n",
        "    \"\"\"Menghitung volume kubus dari panjang sisinya.\"\"\"\n",
        "    return sisi ** 3  # sisi dipangkatkan 3\n",
        "\n",
        "# Pemanggilan fungsi untuk kubus\n",
        "panjang_sisi = 5\n",
        "print(f\"Volume kubus dengan sisi {panjang_sisi} adalah: {hitung_volume_kubus(panjang_sisi)}\")\n",
        "\n",
        "\n",
        "# MODIFIKASI: Fungsi untuk menghitung volume balok\n",
        "def hitung_volume_balok(panjang, lebar, tinggi):\n",
        "    \"\"\"Menghitung volume balok dari panjang, lebar, dan tinggi.\"\"\"\n",
        "    return panjang * lebar * tinggi\n",
        "\n",
        "# Pemanggilan fungsi untuk balok\n",
        "p = 15\n",
        "l = 5\n",
        "t = 8\n",
        "print(f\"Volume balok dengan ukuran {p}x{l}x{t} adalah: {hitung_volume_balok(p, l, t)}\")\n"
      ],
      "metadata": {
        "colab": {
          "base_uri": "https://localhost:8080/"
        },
        "id": "gUY1lyf1y7mj",
        "outputId": "eac913ba-5364-42ea-fbbc-94f874cb6af4"
      },
      "execution_count": null,
      "outputs": [
        {
          "output_type": "stream",
          "name": "stdout",
          "text": [
            "Volume kubus dengan sisi 5 adalah: 125\n",
            "Volume balok dengan ukuran 15x5x8 adalah: 600\n"
          ]
        }
      ]
    },
    {
      "cell_type": "code",
      "source": [
        "# SOAL 3: Menghitung Rata-rata dari List Nilai\n",
        "def hitung_rata_rata(data_nilai):\n",
        "    \"\"\"Menghitung rata-rata dari list angka menggunakan perulangan for.\"\"\"\n",
        "    total = 0\n",
        "    jumlah_valid = 0  # untuk menghitung jumlah nilai valid saja\n",
        "\n",
        "    # Perulangan untuk menjumlahkan nilai\n",
        "    for nilai in data_nilai:\n",
        "        # Cek nilai tidak valid\n",
        "        if nilai < 0 or nilai > 100:\n",
        "            print(f\"Nilai {nilai} tidak valid, diabaikan dari perhitungan.\")\n",
        "            # bisa juga tambahkan penalti jika diinginkan, misalnya:\n",
        "            # total += 0\n",
        "            # jumlah_valid += 1\n",
        "            continue\n",
        "        total += nilai\n",
        "        jumlah_valid += 1\n",
        "\n",
        "    # Pembagian untuk rata-rata\n",
        "    if jumlah_valid > 0:\n",
        "        return total / jumlah_valid\n",
        "    return 0\n",
        "\n",
        "\n",
        "# Pemanggilan:\n",
        "nilai_praktikan = [85, 78, 92, 65, 90, -5, 110]\n",
        "print(f\"Nilai rata-rata kelas adalah: {hitung_rata_rata(nilai_praktikan)}\")\n"
      ],
      "metadata": {
        "colab": {
          "base_uri": "https://localhost:8080/"
        },
        "id": "STLr796gqA-7",
        "outputId": "f5c2f87a-e7ce-4b78-a9ab-4e6af2093ba8"
      },
      "execution_count": 1,
      "outputs": [
        {
          "output_type": "stream",
          "name": "stdout",
          "text": [
            "Nilai -5 tidak valid, diabaikan dari perhitungan.\n",
            "Nilai 110 tidak valid, diabaikan dari perhitungan.\n",
            "Nilai rata-rata kelas adalah: 82.0\n"
          ]
        }
      ]
    },
    {
      "cell_type": "code",
      "source": [
        "# SOAL 4: Sistem Penentuan Predikat Nilai\n",
        "def tentukan_predikat(skor):\n",
        "    \"\"\"Menentukan predikat (A, B, C, D, E) berdasarkan skor.\"\"\"\n",
        "\n",
        "    # Pengecekan tipe data\n",
        "    if not isinstance(skor, (int, float)):\n",
        "        return \"Error: Skor harus berupa angka (int atau float).\"\n",
        "\n",
        "    # Pengecekan rentang skor valid\n",
        "    if skor < 0 or skor > 100:\n",
        "        return \"Error: Skor harus berada dalam rentang 0–100.\"\n",
        "\n",
        "    # Penentuan predikat\n",
        "    if skor >= 85:\n",
        "        return \"A\"\n",
        "    elif skor >= 70:   # ← Lengkapi kondisi elif untuk predikat B\n",
        "        return \"B\"\n",
        "    elif skor >= 60:\n",
        "        return \"C\"      # ← Lengkapi return untuk predikat C\n",
        "    elif skor >= 50:\n",
        "        return \"D\"\n",
        "    else:\n",
        "        return \"E\"\n",
        "\n",
        "\n",
        "# Pemanggilan:\n",
        "print(f\"Skor 75 mendapat predikat: {tentukan_predikat(75)}\")\n",
        "print(f\"Skor 48 mendapat predikat: {tentukan_predikat(48)}\")\n",
        "print(f\"Skor 101 mendapat predikat: {tentukan_predikat(101)}\")\n",
        "print(f\"Skor 'abc' mendapat predikat: {tentukan_predikat('abc')}\")\n"
      ],
      "metadata": {
        "colab": {
          "base_uri": "https://localhost:8080/"
        },
        "id": "AgZwNTp5qBas",
        "outputId": "51cbd5bb-4ff8-44d0-af52-a90e054ac4aa"
      },
      "execution_count": 2,
      "outputs": [
        {
          "output_type": "stream",
          "name": "stdout",
          "text": [
            "Skor 75 mendapat predikat: B\n",
            "Skor 48 mendapat predikat: E\n",
            "Skor 101 mendapat predikat: Error: Skor harus berada dalam rentang 0–100.\n",
            "Skor 'abc' mendapat predikat: Error: Skor harus berupa angka (int atau float).\n"
          ]
        }
      ]
    },
    {
      "cell_type": "code",
      "source": [
        "# SOAL 5: Menghitung Faktorial dengan Loop While\n",
        "def hitung_faktorial(n):\n",
        "    \"\"\"Menghitung faktorial dari bilangan positif n.\"\"\"\n",
        "\n",
        "    # Pengecekan kasus khusus\n",
        "    if n < 0:\n",
        "        return \"Error: Faktorial tidak didefinisikan untuk bilangan negatif.\"\n",
        "    elif n == 0:\n",
        "        return 1  # Faktorial 0 didefinisikan sebagai 1\n",
        "\n",
        "    hasil = 1\n",
        "\n",
        "    # Perulangan berjalan selama n lebih besar dari 1\n",
        "    while n > 1:          # ← Lengkapi kondisi while\n",
        "        hasil *= n\n",
        "        n -= 1             # ← Lengkapi operasi pengurangan\n",
        "    return hasil\n",
        "\n",
        "\n",
        "# Pemanggilan:\n",
        "bilangan_n = 4\n",
        "print(f\"Faktorial dari {bilangan_n} adalah: {hitung_faktorial(bilangan_n)}\")  # Output: 24\n",
        "\n",
        "# Uji tambahan:\n",
        "print(hitung_faktorial(0))   # Output: 1\n",
        "print(hitung_faktorial(-3))  # Output: Error\n"
      ],
      "metadata": {
        "colab": {
          "base_uri": "https://localhost:8080/"
        },
        "id": "otERqGddqab0",
        "outputId": "575bfbad-0bce-4cfa-d0d4-0ac98f616dc5"
      },
      "execution_count": 3,
      "outputs": [
        {
          "output_type": "stream",
          "name": "stdout",
          "text": [
            "Faktorial dari 4 adalah: 24\n",
            "1\n",
            "Error: Faktorial tidak didefinisikan untuk bilangan negatif.\n"
          ]
        }
      ]
    },
    {
      "cell_type": "code",
      "source": [
        "# SOAL 6: Analisis Data Suhu Ekstrem (for dan if/elif)\n",
        "def analisis_suhu(data_suhu, batas_panas=35, batas_dingin=15):\n",
        "    \"\"\"Menghitung jumlah hari Panas dan Dingin dari data_suhu.\"\"\"\n",
        "    panas_count = 0\n",
        "    dingin_count = 0   # ← Lengkapi inisialisasi penghitung\n",
        "\n",
        "    for suhu in data_suhu:\n",
        "        if suhu >= batas_panas:\n",
        "            panas_count += 1\n",
        "        elif suhu <= batas_dingin:   # ← Lengkapi percabangan untuk hari dingin\n",
        "            dingin_count += 1\n",
        "\n",
        "    return panas_count, dingin_count\n",
        "\n",
        "\n",
        "# Pemanggilan:\n",
        "suhu_mingguan = [36, 30, 14, 25, 38, 16, 28]\n",
        "jumlah_panas, jumlah_dingin = analisis_suhu(suhu_mingguan)\n",
        "print(f\"Jumlah hari Panas (>=35°C): {jumlah_panas}\")\n",
        "print(f\"Jumlah hari Dingin (<=15°C): {jumlah_dingin}\")\n",
        "\n",
        "# Contoh pemanggilan dengan batas berbeda\n",
        "jumlah_panas2, jumlah_dingin2 = analisis_suhu(suhu_mingguan, batas_panas=33, batas_dingin=17)\n",
        "print(f\"\\nDengan batas baru:\")\n",
        "print(f\"Jumlah hari Panas (>=33°C): {jumlah_panas2}\")\n",
        "print(f\"Jumlah hari Dingin (<=17°C): {jumlah_dingin2}\")\n",
        "\n"
      ],
      "metadata": {
        "colab": {
          "base_uri": "https://localhost:8080/"
        },
        "id": "ic6oFVHYqalE",
        "outputId": "f2b3ef52-6fc3-4361-a888-591190513821"
      },
      "execution_count": 4,
      "outputs": [
        {
          "output_type": "stream",
          "name": "stdout",
          "text": [
            "Jumlah hari Panas (>=35°C): 2\n",
            "Jumlah hari Dingin (<=15°C): 1\n",
            "\n",
            "Dengan batas baru:\n",
            "Jumlah hari Panas (>=33°C): 2\n",
            "Jumlah hari Dingin (<=17°C): 2\n"
          ]
        }
      ]
    }
  ]
}