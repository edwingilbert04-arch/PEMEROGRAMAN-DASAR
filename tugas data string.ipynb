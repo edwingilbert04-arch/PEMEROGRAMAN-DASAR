{
  "nbformat": 4,
  "nbformat_minor": 0,
  "metadata": {
    "colab": {
      "provenance": [],
      "authorship_tag": "ABX9TyMFYpl/xiB5gJTDSALHVu1F",
      "include_colab_link": true
    },
    "kernelspec": {
      "name": "python3",
      "display_name": "Python 3"
    },
    "language_info": {
      "name": "python"
    }
  },
  "cells": [
    {
      "cell_type": "markdown",
      "metadata": {
        "id": "view-in-github",
        "colab_type": "text"
      },
      "source": [
        "<a href=\"https://colab.research.google.com/github/edwingilbert04-arch/PEMEROGRAMAN-DASAR/blob/main/tugas%20data%20string.ipynb\" target=\"_parent\"><img src=\"https://colab.research.google.com/assets/colab-badge.svg\" alt=\"Open In Colab\"/></a>"
      ]
    },
    {
      "cell_type": "code",
      "source": [
        "# IDENTITAS DIRI DATA STRING\n",
        "first_name = \"EDWIN\"\n",
        "last_name = \"GILBERT TAMBUN\"\n",
        "age = 20\n",
        "is_married = False\n",
        "\n",
        "\n",
        "print (first_name)\n",
        "print (last_name)\n",
        "print (age)\n",
        "print (is_married)\n"
      ],
      "metadata": {
        "colab": {
          "base_uri": "https://localhost:8080/"
        },
        "id": "8KE4p64dbiuE",
        "outputId": "3bb6da29-4477-44c3-fe35-e42ffe7d37ff"
      },
      "execution_count": 1,
      "outputs": [
        {
          "output_type": "stream",
          "name": "stdout",
          "text": [
            "EDWIN\n",
            "GILBERT TAMBUN\n",
            "20\n",
            "False\n"
          ]
        }
      ]
    }
  ]
}