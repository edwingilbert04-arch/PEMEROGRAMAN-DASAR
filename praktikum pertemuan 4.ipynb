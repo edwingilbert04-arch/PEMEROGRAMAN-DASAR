{
  "nbformat": 4,
  "nbformat_minor": 0,
  "metadata": {
    "colab": {
      "provenance": [],
      "authorship_tag": "ABX9TyNYSqvdX37tEKFXKNVAhv6K",
      "include_colab_link": true
    },
    "kernelspec": {
      "name": "python3",
      "display_name": "Python 3"
    },
    "language_info": {
      "name": "python"
    }
  },
  "cells": [
    {
      "cell_type": "markdown",
      "metadata": {
        "id": "view-in-github",
        "colab_type": "text"
      },
      "source": [
        "<a href=\"https://colab.research.google.com/github/edwingilbert04-arch/PEMEROGRAMAN-DASAR/blob/main/praktikum%20pertemuan%204.ipynb\" target=\"_parent\"><img src=\"https://colab.research.google.com/assets/colab-badge.svg\" alt=\"Open In Colab\"/></a>"
      ]
    },
    {
      "cell_type": "code",
      "execution_count": null,
      "metadata": {
        "colab": {
          "base_uri": "https://localhost:8080/"
        },
        "id": "056Ihli6aQy5",
        "outputId": "f96a33fa-e789-4d74-b0a7-e00a9d3bc603"
      },
      "outputs": [
        {
          "output_type": "stream",
          "name": "stdout",
          "text": [
            "pengunjung adalah orang dewasa.\n"
          ]
        }
      ],
      "source": [
        "# variabel untuk menyimpan umur pengunjung\n",
        "umur: int = 20\n",
        "if umur > 17:\n",
        "  print(\"pengunjung adalah orang dewasa.\")"
      ]
    },
    {
      "cell_type": "code",
      "source": [
        "username = input(\"masukan username: \")\n",
        "password = input(\"masukan password: \")\n",
        "\n",
        "if username == \"admin\" and password == \"1234\":\n",
        "    print(\"login berhasil\")\n",
        "else:\n",
        "    print(\"login gagal\")"
      ],
      "metadata": {
        "colab": {
          "base_uri": "https://localhost:8080/"
        },
        "id": "4WTlPpZveKuq",
        "outputId": "12a1c948-0567-441c-ea5a-32226365b069"
      },
      "execution_count": null,
      "outputs": [
        {
          "output_type": "stream",
          "name": "stdout",
          "text": [
            "masukan username: admin\n",
            "masukan password: 1234\n",
            "login berhasil\n"
          ]
        }
      ]
    },
    {
      "cell_type": "code",
      "source": [
        "# variabel untuk memeriksa apakah ada notifikasi baru\n",
        "ada_notifikasi_baru: bool = True\n",
        "if ada_notifikasi_baru:\n",
        "  print(\"anda tidak memiliki pesan baru!\")"
      ],
      "metadata": {
        "colab": {
          "base_uri": "https://localhost:8080/"
        },
        "id": "N38rs6U4iMbQ",
        "outputId": "5689a1a6-9477-4e29-8c63-83b1f76cf666"
      },
      "execution_count": null,
      "outputs": [
        {
          "output_type": "stream",
          "name": "stdout",
          "text": [
            "anda tidak memiliki pesan baru!\n"
          ]
        }
      ]
    },
    {
      "cell_type": "code",
      "source": [
        "# contoh penggunaan percabangan ganda if-else\n",
        "umur = input(\"berapa umur kamu: \")\n",
        "if int(umur) >= 18:\n",
        "  print(\"kamu bisa membuat sim \")\n",
        "else:\n",
        "  print(\"kamu belum boleh membuat sim\")"
      ],
      "metadata": {
        "id": "kNishfddk5Sf",
        "colab": {
          "base_uri": "https://localhost:8080/"
        },
        "outputId": "53ec164e-6062-410a-8730-343dc5f50f8f"
      },
      "execution_count": 4,
      "outputs": [
        {
          "output_type": "stream",
          "name": "stdout",
          "text": [
            "berapa umur kamu: 18\n",
            "kamu bisa membuat sim \n"
          ]
        }
      ]
    },
    {
      "cell_type": "code",
      "source": [
        "angka = int(input(\"masukan bilangan: \"))\n",
        "if angka % 2 == 0:\n",
        "  print(\"bilangan genap\")\n",
        "else:\n",
        "  print(\"bilangan ganjil\")\n"
      ],
      "metadata": {
        "colab": {
          "base_uri": "https://localhost:8080/"
        },
        "id": "F3qT67JhM0CT",
        "outputId": "037e4609-9308-4cde-a2b7-0f8574b19264"
      },
      "execution_count": 5,
      "outputs": [
        {
          "output_type": "stream",
          "name": "stdout",
          "text": [
            "masukan bilangan: 5\n",
            "bilangan ganjil\n"
          ]
        }
      ]
    },
    {
      "cell_type": "code",
      "source": [
        "total_belanja = float(input(\"Masukkan total belanja: Rp \"))\n",
        "if total_belanja > 200000:\n",
        "    diskon = total_belanja * 0.10\n",
        "    total_bayar = total_belanja - diskon\n",
        "    print(f\"Anda mendapat diskon! Total bayar: Rp {total_bayar:,.0f}\")\n",
        "else:\n",
        "    print(f\"Total bayar: Rp {total_belanja:,.0f}\")"
      ],
      "metadata": {
        "colab": {
          "base_uri": "https://localhost:8080/"
        },
        "id": "QyfbFwsbQso5",
        "outputId": "e8714703-e85f-4589-85cd-e7ca5a85242e"
      },
      "execution_count": 6,
      "outputs": [
        {
          "output_type": "stream",
          "name": "stdout",
          "text": [
            "Masukkan total belanja: Rp 300000\n",
            "Anda mendapat diskon! Total bayar: Rp 270,000\n"
          ]
        }
      ]
    },
    {
      "cell_type": "code",
      "source": [
        "# if elif else contoh penggunaan if majemuk\n",
        "nilai = 80\n",
        "if nilai >= 85:\n",
        "    print(\"Luar biasa! Nilai A\")\n",
        "elif nilai >= 70:\n",
        "    print(\"Bagus! Nilai B\")\n",
        "elif nilai >= 60:\n",
        "    print(\" Cukup> Nilai C\")\n",
        "else:\n",
        "    print(\"NIlai kurang, perlu belajar lebih giat.\")\n"
      ],
      "metadata": {
        "colab": {
          "base_uri": "https://localhost:8080/"
        },
        "id": "mDVja-KmRFG3",
        "outputId": "16daa99e-177c-4437-b8e8-e8a0128ef78b"
      },
      "execution_count": 7,
      "outputs": [
        {
          "output_type": "stream",
          "name": "stdout",
          "text": [
            "Bagus! Nilai B\n"
          ]
        }
      ]
    },
    {
      "cell_type": "code",
      "source": [
        "# Menentukan jenis diskon berdasarkan hari\n",
        "hari: str = \"minggu\"\n",
        "\n",
        "if hari== \"Sabtu\" or hari == \"Minggu\":\n",
        "    diskon: float = 0.20 # Diskon 20%\n",
        "    print(f\"Selamat! Anda mendapatkan akhir pekan sebesar {diskon*100}%.\")\n",
        "elif hari == \"Jumat\":\n",
        "     diskon: float = 0.15 # Diskon 15%\n",
        "     print(f\"Diskon spesial Jumat! Anda mendapat potongan {diskon*100}%.\")\n",
        "else:\n",
        "     diskon: float = 0.05 # Diskon 5%\n",
        "     print(f\"Anda mendapat diskon hari biasa sebesar {diskon*100}%.\")"
      ],
      "metadata": {
        "colab": {
          "base_uri": "https://localhost:8080/"
        },
        "id": "a4feE49JRqxY",
        "outputId": "7f512b28-a64c-498b-a54a-ac3fcac33f08"
      },
      "execution_count": 8,
      "outputs": [
        {
          "output_type": "stream",
          "name": "stdout",
          "text": [
            "Anda mendapat diskon hari biasa sebesar 5.0%.\n"
          ]
        }
      ]
    },
    {
      "cell_type": "code",
      "source": [
        "rupiah = int(input(\"Masukkan jumlah uang (Rp): \"))\n",
        "print(\"1. Dollar (USD)\")\n",
        "print(\"2. Euro (EUR)\")\n",
        "print(\"3. Yen (JPY)\")\n",
        "pilih = int(input(\"Pilih konversi (1/2/3): \"))\n",
        "\n",
        "if pilih == 1:\n",
        "    print(\"Dalam Dollar:\", rupiah / 15000)\n",
        "elif pilih == 2:\n",
        "    print(\"Dalam Euro:\", rupiah / 16000)\n",
        "elif pilih == 3:\n",
        "    print(\"Dalam Yen\", rupiah / 120)\n",
        "else:\n",
        "    print(\"Pilihan tidak valid\")"
      ],
      "metadata": {
        "colab": {
          "base_uri": "https://localhost:8080/"
        },
        "id": "UiqT8whtR_gt",
        "outputId": "26e2c4dd-1817-4035-ec43-23669369545d"
      },
      "execution_count": 9,
      "outputs": [
        {
          "output_type": "stream",
          "name": "stdout",
          "text": [
            "Masukkan jumlah uang (Rp): 50000\n",
            "1. Dollar (USD)\n",
            "2. Euro (EUR)\n",
            "3. Yen (JPY)\n",
            "Pilih konversi (1/2/3): 2\n",
            "Dalam Euro: 3.125\n"
          ]
        }
      ]
    }
  ]
}