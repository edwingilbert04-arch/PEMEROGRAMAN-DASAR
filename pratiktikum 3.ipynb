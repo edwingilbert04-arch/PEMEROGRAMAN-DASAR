{
  "nbformat": 4,
  "nbformat_minor": 0,
  "metadata": {
    "colab": {
      "provenance": [],
      "authorship_tag": "ABX9TyM7dcBQgC46SB7ZBs5kIuAS",
      "include_colab_link": true
    },
    "kernelspec": {
      "name": "python3",
      "display_name": "Python 3"
    },
    "language_info": {
      "name": "python"
    }
  },
  "cells": [
    {
      "cell_type": "markdown",
      "metadata": {
        "id": "view-in-github",
        "colab_type": "text"
      },
      "source": [
        "<a href=\"https://colab.research.google.com/github/edwingilbert04-arch/PEMEROGRAMAN-DASAR/blob/main/pratiktikum%203.ipynb\" target=\"_parent\"><img src=\"https://colab.research.google.com/assets/colab-badge.svg\" alt=\"Open In Colab\"/></a>"
      ]
    },
    {
      "cell_type": "code",
      "source": [
        "# fungsi input untuk tipe data float\n",
        "total = float(input(\"berapa porsi makanan yang anda beli : \"))\n",
        "nama = str(input(\"siapa nama pelanggan : \"))\n",
        "\n"
      ],
      "metadata": {
        "colab": {
          "base_uri": "https://localhost:8080/"
        },
        "id": "Yi4w1ooTszX6",
        "outputId": "60f790f8-0476-4f86-812f-82f6d1d88fb6"
      },
      "execution_count": 8,
      "outputs": [
        {
          "name": "stdout",
          "output_type": "stream",
          "text": [
            "berapa porsi makanan yang anda beli : 10.0\n",
            "siapa nama pelanggan : edwin\n"
          ]
        }
      ]
    },
    {
      "cell_type": "code",
      "source": [
        "# Kalkulator Sederhana\n",
        "a = 20\n",
        "b = 5\n",
        "\n",
        "print(\"Penjumlahan:\", a + b)\n",
        "print(\"Pengurangan:\", a - b)\n",
        "print(\"Perkalian:\", a * b)\n",
        "print(\"Pembagian:\", a / b)\n",
        "\n",
        "# Mengecek Bilangan\n",
        "bilangan = 8\n",
        "hasil = (bilangan > 0) and (bilangan % 2 == 0)\n",
        "\n",
        "print(\"Genap dan positif?\", hasil)\n",
        "\n",
        "# Kalkulator Kasir\n",
        "harga_makan = int(input(\"Berapa harga mi ayam per porsi? \"))\n",
        "jumlah_makan = int(input(\"Berapa porsi yang Anda beli? \"))\n",
        "\n",
        "total_makan = harga_makan * jumlah_makan\n",
        "\n",
        "print(f\"Harga makan per porsi = {harga_makan}, totalnya adalah {total_makan}\")\n"
      ],
      "metadata": {
        "colab": {
          "base_uri": "https://localhost:8080/"
        },
        "id": "KYdAPye03IHA",
        "outputId": "a46fa226-1467-4ce5-f0e0-1171d5e74639"
      },
      "execution_count": 27,
      "outputs": [
        {
          "output_type": "stream",
          "name": "stdout",
          "text": [
            "Penjumlahan: 25\n",
            "Pengurangan: 15\n",
            "Perkalian: 100\n",
            "Pembagian: 4.0\n",
            "Genap dan positif? True\n",
            "Berapa harga mi ayam per porsi? 12000\n",
            "Berapa porsi yang Anda beli? 3\n",
            "Harga makan per porsi = 12000, totalnya adalah 36000\n"
          ]
        }
      ]
    },
    {
      "cell_type": "code",
      "source": [
        "# Konversi Waktu dari Total Detik\n",
        "\n",
        "# input dari keyboard\n",
        "total_detik = int(input(\"Masukkan total detik: \"))\n",
        "\n",
        "# hitung jam, menit, detik\n",
        "jam = total_detik // 3600              # 1 jam = 3600 detik\n",
        "sisa_detik = total_detik % 3600        # sisa detik setelah diambil jam\n",
        "\n",
        "menit = sisa_detik // 60               # 1 menit = 60 detik\n",
        "detik = sisa_detik % 60                # sisa detik setelah diambil menit\n",
        "\n",
        "# output hasil\n",
        "print(f\"Hasil Konversi: {jam} Jam, {menit} Menit, {detik} Detik\")\n"
      ],
      "metadata": {
        "colab": {
          "base_uri": "https://localhost:8080/"
        },
        "id": "O6JNi1Cc-GdQ",
        "outputId": "5fe415e4-39bb-44a3-86d6-9ca04af091fb"
      },
      "execution_count": 24,
      "outputs": [
        {
          "output_type": "stream",
          "name": "stdout",
          "text": [
            "Masukkan total detik: 358200\n",
            "Hasil Konversi: 99 Jam, 30 Menit, 0 Detik\n"
          ]
        }
      ]
    },
    {
      "cell_type": "code",
      "source": [
        "# ===============================\n",
        "# Menghitung Nilai Akhir Mahasiswa\n",
        "# ===============================\n",
        "\n",
        "# input nilai mahasiswa\n",
        "tugas1 = float(input(\"Masukkan nilai Tugas 1: \"))\n",
        "tugas2 = float(input(\"Masukkan nilai Tugas 2: \"))\n",
        "uts    = float(input(\"Masukkan nilai UTS: \"))\n",
        "uas    = float(input(\"Masukkan nilai UAS: \"))\n",
        "praktikum = float(input(\"Masukkan nilai Praktikum: \"))\n",
        "\n",
        "# bobot nilai (bisa disesuaikan sesuai aturan dosen)\n",
        "nilai_akhir = (0.15 * tugas1) + (0.15 * tugas2) + (0.3 * uts) + (0.3 * uas) + (0.1 * praktikum)\n",
        "\n",
        "# input standar kelulusan\n",
        "standar_kelulusan = float(input(\"Masukkan standar kelulusan (misal 60): \"))\n",
        "\n",
        "# cek status kelulusan\n",
        "apakah_lulus = nilai_akhir >= standar_kelulusan\n",
        "perlu_remedial = nilai_akhir < standar_kelulusan\n",
        "\n",
        "# output\n",
        "print(\"\\n=== Hasil Akhir ===\")\n",
        "print(f\"Nilai Akhir Mahasiswa : {nilai_akhir:.2f}\")\n",
        "print(f\"Standar Kelulusan     : {standar_kelulusan}\")\n",
        "print(f\"Apakah Mahasiswa Lulus? {apakah_lulus}\")\n",
        "print(f\"Perlu Remedial?        {perlu_remedial}\")\n"
      ],
      "metadata": {
        "colab": {
          "base_uri": "https://localhost:8080/"
        },
        "id": "K5LAFKJs-r5j",
        "outputId": "c3c59b4f-71b6-421d-a0e9-d3cb98aa1377"
      },
      "execution_count": 25,
      "outputs": [
        {
          "output_type": "stream",
          "name": "stdout",
          "text": [
            "Masukkan nilai Tugas 1: 80\n",
            "Masukkan nilai Tugas 2: 75\n",
            "Masukkan nilai UTS: 70\n",
            "Masukkan nilai UAS: 85\n",
            "Masukkan nilai Praktikum: 90\n",
            "Masukkan standar kelulusan (misal 60): 60\n",
            "\n",
            "=== Hasil Akhir ===\n",
            "Nilai Akhir Mahasiswa : 78.75\n",
            "Standar Kelulusan     : 60.0\n",
            "Apakah Mahasiswa Lulus? True\n",
            "Perlu Remedial?        False\n"
          ]
        }
      ]
    },
    {
      "cell_type": "code",
      "source": [
        "# Program menghitung total belanja dengan diskon\n",
        "\n",
        "# input dari keyboard\n",
        "belanja = int(input(\"Masukkan total belanja: \"))\n",
        "\n",
        "# logika diskon\n",
        "if belanja > 1000000:\n",
        "    diskon = 0.35 * belanja\n",
        "elif belanja > 500000:\n",
        "    diskon = 0.10 * belanja\n",
        "else:\n",
        "    diskon = 0\n",
        "\n",
        "# hitung total harga setelah diskon\n",
        "total_harga = belanja - diskon\n",
        "\n",
        "# output hasil\n",
        "print(f\"Total belanja : Rp {belanja:,}\")\n",
        "print(f\"Diskon        : Rp {diskon:,}\")\n",
        "print(f\"Total bayar   : Rp {total_harga:,}\")\n"
      ],
      "metadata": {
        "colab": {
          "base_uri": "https://localhost:8080/"
        },
        "id": "ImH61AOg_Vzz",
        "outputId": "a8423bca-edbe-4201-cb4d-55fb8bf9f8ab"
      },
      "execution_count": 26,
      "outputs": [
        {
          "output_type": "stream",
          "name": "stdout",
          "text": [
            "Masukkan total belanja: 1500000\n",
            "Total belanja : Rp 1,500,000\n",
            "Diskon        : Rp 525,000.0\n",
            "Total bayar   : Rp 975,000.0\n"
          ]
        }
      ]
    }
  ]
}